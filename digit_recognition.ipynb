{
 "cells": [
  {
   "cell_type": "code",
   "execution_count": 1,
   "metadata": {},
   "outputs": [],
   "source": [
    "import matplotlib.pyplot as plt\n",
    "import numpy as np\n",
    "import pandas as pd\n",
    "from tqdm import tqdm\n",
    "import os\n",
    "import cv2\n",
    "import tensorflow as tf\n"
   ]
  },
  {
   "cell_type": "code",
   "execution_count": 2,
   "metadata": {},
   "outputs": [],
   "source": [
    "def normalize(img):\n",
    "    img=(img-np.mean(img))/np.std(img)\n",
    "    return img"
   ]
  },
  {
   "cell_type": "code",
   "execution_count": 3,
   "metadata": {},
   "outputs": [
    {
     "name": "stderr",
     "output_type": "stream",
     "text": [
      "100%|██████████████████████████████████████████████████████████████████████████████████| 10/10 [04:35<00:00, 27.52s/it]\n"
     ]
    }
   ],
   "source": [
    "base_dir=r'D:\\codes\\digit\\database'\n",
    "files=os.listdir(base_dir)\n",
    "x_train=[]\n",
    "y_train=[]\n",
    "x_test=[]\n",
    "y_test=[]\n",
    "size=30\n",
    "for i in tqdm(files):\n",
    "    y=[]\n",
    "    x=[]\n",
    "    path=os.path.join(base_dir,i)\n",
    "    file_name=os.listdir(path)\n",
    "    for file in file_name:\n",
    "        one_hot=np.zeros((1,10))\n",
    "        one_hot[0,int(i)] = 1 \n",
    "        #for image\n",
    "        img=cv2.imread(os.path.join(path,file),cv2.IMREAD_GRAYSCALE)\n",
    "        img=cv2.resize(img,(size,size))\n",
    "        img=img.reshape(1,-1)\n",
    "        img=normalize(img)\n",
    "        x.append(img)\n",
    "        y.append(one_hot)\n",
    "    x=np.array(x)\n",
    "    y=np.array(y)\n",
    "    x_test.append(x[:100,:,:])\n",
    "    y_test.append(y[:100,:,:])\n",
    "    x_train.append(x[100:,:,:])\n",
    "    y_train.append(y[100:,:,:])"
   ]
  },
  {
   "cell_type": "code",
   "execution_count": 4,
   "metadata": {},
   "outputs": [
    {
     "name": "stdout",
     "output_type": "stream",
     "text": [
      "(29010, 900)\n",
      "(29010, 10)\n",
      "(1000, 900)\n",
      "(1000, 10)\n"
     ]
    }
   ],
   "source": [
    "x_train=np.array(x_train).reshape(-1,size*size)\n",
    "y_train=np.array(y_train).reshape(-1,10)\n",
    "x_test=np.array(x_test).reshape(-1,size*size)\n",
    "y_test=np.array(y_test).reshape(-1,10)\n",
    "print(np.shape(x_train))\n",
    "print(np.shape(y_train))\n",
    "print(np.shape(x_test))\n",
    "print(np.shape(y_test))"
   ]
  },
  {
   "cell_type": "code",
   "execution_count": 5,
   "metadata": {},
   "outputs": [],
   "source": [
    "model=tf.keras.Sequential([\n",
    "    tf.keras.layers.Dense(size*size,activation='relu',input_shape=(size*size,),kernel_regularizer='l2'),\n",
    "    tf.keras.layers.Dense(160,activation='relu',kernel_regularizer='l2'),\n",
    "    tf.keras.layers.Dense(80,activation='relu',kernel_regularizer='l2'),\n",
    "    tf.keras.layers.Dense(40,activation='relu',kernel_regularizer='l2'),\n",
    "    tf.keras.layers.Dense(10,activation='softmax',kernel_regularizer='l2'), \n",
    "])"
   ]
  },
  {
   "cell_type": "code",
   "execution_count": 6,
   "metadata": {},
   "outputs": [],
   "source": [
    "model.compile(optimizer='adam',loss='categorical_crossentropy',metrics=['accuracy'])"
   ]
  },
  {
   "cell_type": "code",
   "execution_count": 7,
   "metadata": {},
   "outputs": [
    {
     "name": "stdout",
     "output_type": "stream",
     "text": [
      "Model: \"sequential\"\n",
      "_________________________________________________________________\n",
      "Layer (type)                 Output Shape              Param #   \n",
      "=================================================================\n",
      "dense (Dense)                (None, 900)               810900    \n",
      "_________________________________________________________________\n",
      "dense_1 (Dense)              (None, 160)               144160    \n",
      "_________________________________________________________________\n",
      "dense_2 (Dense)              (None, 80)                12880     \n",
      "_________________________________________________________________\n",
      "dense_3 (Dense)              (None, 40)                3240      \n",
      "_________________________________________________________________\n",
      "dense_4 (Dense)              (None, 10)                410       \n",
      "=================================================================\n",
      "Total params: 971,590\n",
      "Trainable params: 971,590\n",
      "Non-trainable params: 0\n",
      "_________________________________________________________________\n"
     ]
    }
   ],
   "source": [
    "model.summary()"
   ]
  },
  {
   "cell_type": "code",
   "execution_count": 8,
   "metadata": {},
   "outputs": [
    {
     "name": "stdout",
     "output_type": "stream",
     "text": [
      "Epoch 1/20\n",
      "227/227 [==============================] - 4s 16ms/step - loss: 3.2752 - accuracy: 0.8488 0s - loss: 3.5719 \n",
      "Epoch 2/20\n",
      "227/227 [==============================] - 3s 15ms/step - loss: 1.0895 - accuracy: 0.9192\n",
      "Epoch 3/20\n",
      "227/227 [==============================] - 3s 15ms/step - loss: 0.9035 - accuracy: 0.9272\n",
      "Epoch 4/20\n",
      "227/227 [==============================] - 3s 15ms/step - loss: 0.8334 - accuracy: 0.9308\n",
      "Epoch 5/20\n",
      "227/227 [==============================] - 3s 14ms/step - loss: 0.7916 - accuracy: 0.9344\n",
      "Epoch 6/20\n",
      "227/227 [==============================] - 3s 15ms/step - loss: 0.7625 - accuracy: 0.9375\n",
      "Epoch 7/20\n",
      "227/227 [==============================] - 3s 15ms/step - loss: 0.7430 - accuracy: 0.9395\n",
      "Epoch 8/20\n",
      "227/227 [==============================] - 3s 15ms/step - loss: 0.7216 - accuracy: 0.9422\n",
      "Epoch 9/20\n",
      "227/227 [==============================] - 3s 15ms/step - loss: 0.7189 - accuracy: 0.9401\n",
      "Epoch 10/20\n",
      "227/227 [==============================] - 3s 15ms/step - loss: 0.7056 - accuracy: 0.9442\n",
      "Epoch 11/20\n",
      "227/227 [==============================] - 3s 15ms/step - loss: 0.6970 - accuracy: 0.9442 0s - l\n",
      "Epoch 12/20\n",
      "227/227 [==============================] - 3s 15ms/step - loss: 0.6918 - accuracy: 0.9448 0s - loss: 0.691\n",
      "Epoch 13/20\n",
      "227/227 [==============================] - 3s 15ms/step - loss: 0.6876 - accuracy: 0.9459\n",
      "Epoch 14/20\n",
      "227/227 [==============================] - 3s 15ms/step - loss: 0.6881 - accuracy: 0.9444 1s - - ETA: 0s - l\n",
      "Epoch 15/20\n",
      "227/227 [==============================] - 3s 15ms/step - loss: 0.6779 - accuracy: 0.9484\n",
      "Epoch 16/20\n",
      "227/227 [==============================] - 3s 15ms/step - loss: 0.6746 - accuracy: 0.9493\n",
      "Epoch 17/20\n",
      "227/227 [==============================] - 3s 15ms/step - loss: 0.6737 - accuracy: 0.9484 1s - loss: - ETA: 0s - l\n",
      "Epoch 18/20\n",
      "227/227 [==============================] - 3s 15ms/step - loss: 0.6717 - accuracy: 0.9501\n",
      "Epoch 19/20\n",
      "227/227 [==============================] - 4s 16ms/step - loss: 0.6656 - accuracy: 0.9504\n",
      "Epoch 20/20\n",
      "227/227 [==============================] - 4s 19ms/step - loss: 0.6710 - accuracy: 0.9484\n"
     ]
    }
   ],
   "source": [
    "it=20\n",
    "history=model.fit(x_train,y_train,batch_size=128,epochs=it)"
   ]
  },
  {
   "cell_type": "code",
   "execution_count": 9,
   "metadata": {},
   "outputs": [
    {
     "data": {
      "image/png": "[encoded data removed]",
      "text/plain": [
       "<Figure size 432x288 with 1 Axes>"
      ]
     },
     "metadata": {
      "needs_background": "light"
     },
     "output_type": "display_data"
    }
   ],
   "source": [
    "# plt.contour([[i for i in range(20)],history.history['loss']],50, cmap='RdGy')\n",
    "plt.plot([i for i in range(it)],history.history['loss'])\n",
    "plt.show()"
   ]
  },
  {
   "cell_type": "code",
   "execution_count": null,
   "metadata": {},
   "outputs": [
    {
     "data": {
      "image/png": "[encoded data removed]",
      "text/plain": [
       "<Figure size 432x288 with 1 Axes>"
      ]
     },
     "metadata": {
      "needs_background": "light"
     },
     "output_type": "display_data"
    },
    {
     "name": "stdout",
     "output_type": "stream",
     "text": [
      "Neural Network Prediction: 6\n",
      "do you want to continue(y/n)\n",
      "y\n"
     ]
    },
    {
     "data": {
      "image/png": "[encoded data removed]",
      "text/plain": [
       "<Figure size 432x288 with 1 Axes>"
      ]
     },
     "metadata": {
      "needs_background": "light"
     },
     "output_type": "display_data"
    },
    {
     "name": "stdout",
     "output_type": "stream",
     "text": [
      "Neural Network Prediction: 4\n",
      "do you want to continue(y/n)\n",
      "y\n"
     ]
    },
    {
     "data": {
      "image/png": "[encoded data removed]",
      "text/plain": [
       "<Figure size 432x288 with 1 Axes>"
      ]
     },
     "metadata": {
      "needs_background": "light"
     },
     "output_type": "display_data"
    },
    {
     "name": "stdout",
     "output_type": "stream",
     "text": [
      "Neural Network Prediction: 5\n",
      "do you want to continue(y/n)\n",
      "y\n"
     ]
    },
    {
     "data": {
      "image/png": "[encoded data removed]",
      "text/plain": [
       "<Figure size 432x288 with 1 Axes>"
      ]
     },
     "metadata": {
      "needs_background": "light"
     },
     "output_type": "display_data"
    },
    {
     "name": "stdout",
     "output_type": "stream",
     "text": [
      "Neural Network Prediction: 9\n",
      "do you want to continue(y/n)\n",
      "y\n"
     ]
    },
    {
     "data": {
      "image/png": "[encoded data removed]",
      "text/plain": [
       "<Figure size 432x288 with 1 Axes>"
      ]
     },
     "metadata": {
      "needs_background": "light"
     },
     "output_type": "display_data"
    },
    {
     "name": "stdout",
     "output_type": "stream",
     "text": [
      "Neural Network Prediction: 7\n",
      "do you want to continue(y/n)\n"
     ]
    }
   ],
   "source": [
    "for i in range(x_test.shape[0]):\n",
    "    test=x_test[np.random.randint(0,x_test.shape[0])]\n",
    "    v=test.reshape(size,size)\n",
    "    plt.imshow(v)\n",
    "    plt.show()\n",
    "    pre=model.predict(test.reshape(1,size*size))\n",
    "    p=np.argmax(pre)\n",
    "    print('Neural Network Prediction:',p)\n",
    "    print(\"do you want to continue(y/n)\")\n",
    "    c=input()\n",
    "    if (c=='y'or c=='Y'):\n",
    "        continue\n",
    "    else:\n",
    "        print('exitting!! Done')\n",
    "        break"
   ]
  },
  {
   "cell_type": "code",
   "execution_count": null,
   "metadata": {},
   "outputs": [],
   "source": []
  }
 ],
 "metadata": {
  "kernelspec": {
   "display_name": "Python 3.8.3 64-bit",
   "language": "python",
   "name": "python38364bit1db4d713191d4539ad9e32516778e193"
  },
  "language_info": {
   "codemirror_mode": {
    "name": "ipython",
    "version": 3
   },
   "file_extension": ".py",
   "mimetype": "text/x-python",
   "name": "python",
   "nbconvert_exporter": "python",
   "pygments_lexer": "ipython3",
   "version": "3.8.3"
  }
 },
 "nbformat": 4,
 "nbformat_minor": 4
}
